{
  "nbformat": 4,
  "nbformat_minor": 0,
  "metadata": {
    "colab": {
      "provenance": []
    },
    "kernelspec": {
      "name": "python3",
      "display_name": "Python 3"
    },
    "language_info": {
      "name": "python"
    }
  },
  "cells": [
    {
      "cell_type": "markdown",
      "source": [
        "#ID0309 - Aprendizaje Estadístico\n",
        "\n",
        "### Otoño 2023\n",
        "\n",
        "### ID0309_Lab_1-6\n",
        "\n",
        "**Enrique Naredo García**\n",
        "\n",
        "<font size = 2>\n",
        "©️ Todos los derechos reservados. All rights reserved.\n",
        "\n",
        "*Nota: El presente documento es una herramienta diseñada única y exclusivamente para los estudiantes de la asignatura arriba mencionada. Se recuerda no compartir esta información fuera de los integrantes registrados en este curso. La reproducción total o parcial de este documento requiere autorización por escrito del titular del copyright.*\n",
        "</font>"
      ],
      "metadata": {
        "id": "6H53_AnCOTW4"
      }
    },
    {
      "cell_type": "markdown",
      "source": [
        "#Reducción de dimensionalidad"
      ],
      "metadata": {
        "id": "pR4xTqxgBYRf"
      }
    },
    {
      "cell_type": "markdown",
      "source": [
        "##Clasificación Binaria"
      ],
      "metadata": {
        "id": "cUnboFrUBbLg"
      }
    },
    {
      "cell_type": "code",
      "source": [
        "# librerías\n",
        "from sklearn.datasets import make_classification"
      ],
      "metadata": {
        "id": "klmc2GB3CIbi"
      },
      "execution_count": 13,
      "outputs": []
    },
    {
      "cell_type": "markdown",
      "source": [
        "Generamos un conjunto de datos con una etiqueta binaria.\n",
        "* Es decir, una etiqueta con sólo dos valores posibles: 0 o 1.\n",
        "* Para hacer esto, establezca el valor del parámetro n_classes en 2.\n",
        "* Crearemos un conjunto de datos con 1000 observaciones.\n",
        "* Contará con cinco artículos, de los cuales tres serán informativos.\n",
        "* Las otras dos funciones serán redundantes."
      ],
      "metadata": {
        "id": "iz0w09y7C3cg"
      }
    },
    {
      "cell_type": "code",
      "execution_count": 14,
      "metadata": {
        "id": "XzaVPmYT-dvv"
      },
      "outputs": [],
      "source": [
        "# Genera un conjunto de datos\n",
        "X, y = make_classification(\n",
        "    # 1000 observaciones\n",
        "    n_samples=1000,\n",
        "    # 5 características (dimensiones)\n",
        "    n_features=5,\n",
        "    # 3 características 'utiles'\n",
        "    n_informative=3,\n",
        "    # número de etiquetas para las dos clases\n",
        "    n_classes=2,\n",
        "    # para obtener los mismos resultados\n",
        "    random_state=77\n",
        ")\n"
      ]
    },
    {
      "cell_type": "markdown",
      "source": [
        "Si no especificas ```random_state``` en tu código cada vez que lo ejecutas.\n",
        "* Se genera un nuevo valor aleatorio.\n",
        "* Los conjuntos de datos de entrenamiento y prueba tendrán valores diferentes cada vez.\n",
        "* Para todos los conjuntos de datos aleatorios, cada uno asigna un valor de estado_aleatorio.\n",
        "* Significa que un valor de estado_aleatorio tiene un conjunto de datos fijo.\n",
        "* Esto es que cada vez que ejecutamos código con valor random_state, digamos 1, producirá los mismos conjuntos de datos divididos."
      ],
      "metadata": {
        "id": "5OjZ6C3XD8M-"
      }
    },
    {
      "cell_type": "markdown",
      "source": [
        "Convirtamos la salida de make_classification() en un DataFrame de pandas.\n",
        "* Es más fácil analizar un DataFrame que las matrices NumPy sin procesar."
      ],
      "metadata": {
        "id": "-P5flKQIDSbt"
      }
    },
    {
      "cell_type": "code",
      "source": [
        "import pandas as pd\n",
        "\n",
        "# Crea un DataFrame\n",
        "dataset = pd.DataFrame(X)\n",
        "# nombra las características\n",
        "dataset.columns = ['X1', 'X2', 'X3', 'X4', 'X5']\n",
        "# y agrega una etiqueta como columna\n",
        "dataset['y'] = y\n",
        "\n",
        "dataset.info()"
      ],
      "metadata": {
        "colab": {
          "base_uri": "https://localhost:8080/"
        },
        "id": "fd_EY9U0Cn03",
        "outputId": "359c87d0-d998-436f-c8f3-eaa4b328cac2"
      },
      "execution_count": 15,
      "outputs": [
        {
          "output_type": "stream",
          "name": "stdout",
          "text": [
            "<class 'pandas.core.frame.DataFrame'>\n",
            "RangeIndex: 1000 entries, 0 to 999\n",
            "Data columns (total 6 columns):\n",
            " #   Column  Non-Null Count  Dtype  \n",
            "---  ------  --------------  -----  \n",
            " 0   X1      1000 non-null   float64\n",
            " 1   X2      1000 non-null   float64\n",
            " 2   X3      1000 non-null   float64\n",
            " 3   X4      1000 non-null   float64\n",
            " 4   X5      1000 non-null   float64\n",
            " 5   y       1000 non-null   int64  \n",
            "dtypes: float64(5), int64(1)\n",
            "memory usage: 47.0 KB\n"
          ]
        }
      ]
    },
    {
      "cell_type": "markdown",
      "source": [
        "Como se esperaba, el conjunto de datos tiene 1000 observaciones, cinco características (X1, X2, X3, X4 y X5) y la etiqueta de destino correspondiente (y).\n",
        "\n",
        "* Habíamos establecido el parámetro n_informative en 3.\n",
        "* Por lo tanto, solo las tres primeras características (X1, X2, X3) son importantes.\n",
        "* Los otros, X4 y X5, son redundantes.1"
      ],
      "metadata": {
        "id": "a9fFIAVHDeiX"
      }
    },
    {
      "cell_type": "code",
      "source": [
        "# verifica los valores únicos para la etiqueta \"y\"\n",
        "dataset['y'].value_counts()"
      ],
      "metadata": {
        "colab": {
          "base_uri": "https://localhost:8080/"
        },
        "id": "VxqJke22DpVv",
        "outputId": "8b698646-9e44-438a-cb07-f75769163518"
      },
      "execution_count": 16,
      "outputs": [
        {
          "output_type": "execute_result",
          "data": {
            "text/plain": [
              "1    503\n",
              "0    497\n",
              "Name: y, dtype: int64"
            ]
          },
          "metadata": {},
          "execution_count": 16
        }
      ]
    },
    {
      "cell_type": "markdown",
      "source": [
        "La etiqueta tiene sólo dos valores posibles (0 y 1).\n",
        "* Entonces es un conjunto de datos de clasificación binaria.\n",
        "* Además, los recuentos de ambos valores son aproximadamente iguales.\n",
        "* Así, la etiqueta tiene clases equilibradas."
      ],
      "metadata": {
        "id": "B7ictfuzD98H"
      }
    },
    {
      "cell_type": "code",
      "source": [
        "# aquí están las primeras cinco observaciones\n",
        "dataset.head()"
      ],
      "metadata": {
        "colab": {
          "base_uri": "https://localhost:8080/",
          "height": 206
        },
        "id": "JYEMjoNpEGIR",
        "outputId": "12b716d1-d212-403f-a4e1-f99521c9d5bf"
      },
      "execution_count": 17,
      "outputs": [
        {
          "output_type": "execute_result",
          "data": {
            "text/plain": [
              "         X1        X2        X3        X4        X5  y\n",
              "0 -1.436084 -1.369394  0.858954 -0.325778  0.976911  1\n",
              "1  1.229934 -1.134827 -1.747461  0.790104 -1.242959  0\n",
              "2 -1.556988 -0.921732  0.944404 -0.365890  0.964439  1\n",
              "3 -0.667602 -1.100769  1.103220 -0.483515  1.125059  1\n",
              "4  1.025707 -0.316636 -0.897722  0.383591 -0.690592  0"
            ],
            "text/html": [
              "\n",
              "  <div id=\"df-9db1f2bb-b43e-45f9-b4ce-57967b43ec6e\" class=\"colab-df-container\">\n",
              "    <div>\n",
              "<style scoped>\n",
              "    .dataframe tbody tr th:only-of-type {\n",
              "        vertical-align: middle;\n",
              "    }\n",
              "\n",
              "    .dataframe tbody tr th {\n",
              "        vertical-align: top;\n",
              "    }\n",
              "\n",
              "    .dataframe thead th {\n",
              "        text-align: right;\n",
              "    }\n",
              "</style>\n",
              "<table border=\"1\" class=\"dataframe\">\n",
              "  <thead>\n",
              "    <tr style=\"text-align: right;\">\n",
              "      <th></th>\n",
              "      <th>X1</th>\n",
              "      <th>X2</th>\n",
              "      <th>X3</th>\n",
              "      <th>X4</th>\n",
              "      <th>X5</th>\n",
              "      <th>y</th>\n",
              "    </tr>\n",
              "  </thead>\n",
              "  <tbody>\n",
              "    <tr>\n",
              "      <th>0</th>\n",
              "      <td>-1.436084</td>\n",
              "      <td>-1.369394</td>\n",
              "      <td>0.858954</td>\n",
              "      <td>-0.325778</td>\n",
              "      <td>0.976911</td>\n",
              "      <td>1</td>\n",
              "    </tr>\n",
              "    <tr>\n",
              "      <th>1</th>\n",
              "      <td>1.229934</td>\n",
              "      <td>-1.134827</td>\n",
              "      <td>-1.747461</td>\n",
              "      <td>0.790104</td>\n",
              "      <td>-1.242959</td>\n",
              "      <td>0</td>\n",
              "    </tr>\n",
              "    <tr>\n",
              "      <th>2</th>\n",
              "      <td>-1.556988</td>\n",
              "      <td>-0.921732</td>\n",
              "      <td>0.944404</td>\n",
              "      <td>-0.365890</td>\n",
              "      <td>0.964439</td>\n",
              "      <td>1</td>\n",
              "    </tr>\n",
              "    <tr>\n",
              "      <th>3</th>\n",
              "      <td>-0.667602</td>\n",
              "      <td>-1.100769</td>\n",
              "      <td>1.103220</td>\n",
              "      <td>-0.483515</td>\n",
              "      <td>1.125059</td>\n",
              "      <td>1</td>\n",
              "    </tr>\n",
              "    <tr>\n",
              "      <th>4</th>\n",
              "      <td>1.025707</td>\n",
              "      <td>-0.316636</td>\n",
              "      <td>-0.897722</td>\n",
              "      <td>0.383591</td>\n",
              "      <td>-0.690592</td>\n",
              "      <td>0</td>\n",
              "    </tr>\n",
              "  </tbody>\n",
              "</table>\n",
              "</div>\n",
              "    <div class=\"colab-df-buttons\">\n",
              "\n",
              "  <div class=\"colab-df-container\">\n",
              "    <button class=\"colab-df-convert\" onclick=\"convertToInteractive('df-9db1f2bb-b43e-45f9-b4ce-57967b43ec6e')\"\n",
              "            title=\"Convert this dataframe to an interactive table.\"\n",
              "            style=\"display:none;\">\n",
              "\n",
              "  <svg xmlns=\"http://www.w3.org/2000/svg\" height=\"24px\" viewBox=\"0 -960 960 960\">\n",
              "    <path d=\"M120-120v-720h720v720H120Zm60-500h600v-160H180v160Zm220 220h160v-160H400v160Zm0 220h160v-160H400v160ZM180-400h160v-160H180v160Zm440 0h160v-160H620v160ZM180-180h160v-160H180v160Zm440 0h160v-160H620v160Z\"/>\n",
              "  </svg>\n",
              "    </button>\n",
              "\n",
              "  <style>\n",
              "    .colab-df-container {\n",
              "      display:flex;\n",
              "      gap: 12px;\n",
              "    }\n",
              "\n",
              "    .colab-df-convert {\n",
              "      background-color: #E8F0FE;\n",
              "      border: none;\n",
              "      border-radius: 50%;\n",
              "      cursor: pointer;\n",
              "      display: none;\n",
              "      fill: #1967D2;\n",
              "      height: 32px;\n",
              "      padding: 0 0 0 0;\n",
              "      width: 32px;\n",
              "    }\n",
              "\n",
              "    .colab-df-convert:hover {\n",
              "      background-color: #E2EBFA;\n",
              "      box-shadow: 0px 1px 2px rgba(60, 64, 67, 0.3), 0px 1px 3px 1px rgba(60, 64, 67, 0.15);\n",
              "      fill: #174EA6;\n",
              "    }\n",
              "\n",
              "    .colab-df-buttons div {\n",
              "      margin-bottom: 4px;\n",
              "    }\n",
              "\n",
              "    [theme=dark] .colab-df-convert {\n",
              "      background-color: #3B4455;\n",
              "      fill: #D2E3FC;\n",
              "    }\n",
              "\n",
              "    [theme=dark] .colab-df-convert:hover {\n",
              "      background-color: #434B5C;\n",
              "      box-shadow: 0px 1px 3px 1px rgba(0, 0, 0, 0.15);\n",
              "      filter: drop-shadow(0px 1px 2px rgba(0, 0, 0, 0.3));\n",
              "      fill: #FFFFFF;\n",
              "    }\n",
              "  </style>\n",
              "\n",
              "    <script>\n",
              "      const buttonEl =\n",
              "        document.querySelector('#df-9db1f2bb-b43e-45f9-b4ce-57967b43ec6e button.colab-df-convert');\n",
              "      buttonEl.style.display =\n",
              "        google.colab.kernel.accessAllowed ? 'block' : 'none';\n",
              "\n",
              "      async function convertToInteractive(key) {\n",
              "        const element = document.querySelector('#df-9db1f2bb-b43e-45f9-b4ce-57967b43ec6e');\n",
              "        const dataTable =\n",
              "          await google.colab.kernel.invokeFunction('convertToInteractive',\n",
              "                                                    [key], {});\n",
              "        if (!dataTable) return;\n",
              "\n",
              "        const docLinkHtml = 'Like what you see? Visit the ' +\n",
              "          '<a target=\"_blank\" href=https://colab.research.google.com/notebooks/data_table.ipynb>data table notebook</a>'\n",
              "          + ' to learn more about interactive tables.';\n",
              "        element.innerHTML = '';\n",
              "        dataTable['output_type'] = 'display_data';\n",
              "        await google.colab.output.renderOutput(dataTable, element);\n",
              "        const docLink = document.createElement('div');\n",
              "        docLink.innerHTML = docLinkHtml;\n",
              "        element.appendChild(docLink);\n",
              "      }\n",
              "    </script>\n",
              "  </div>\n",
              "\n",
              "\n",
              "<div id=\"df-ded9cc79-1eb6-4833-894e-bdc47ec8b99d\">\n",
              "  <button class=\"colab-df-quickchart\" onclick=\"quickchart('df-ded9cc79-1eb6-4833-894e-bdc47ec8b99d')\"\n",
              "            title=\"Suggest charts.\"\n",
              "            style=\"display:none;\">\n",
              "\n",
              "<svg xmlns=\"http://www.w3.org/2000/svg\" height=\"24px\"viewBox=\"0 0 24 24\"\n",
              "     width=\"24px\">\n",
              "    <g>\n",
              "        <path d=\"M19 3H5c-1.1 0-2 .9-2 2v14c0 1.1.9 2 2 2h14c1.1 0 2-.9 2-2V5c0-1.1-.9-2-2-2zM9 17H7v-7h2v7zm4 0h-2V7h2v10zm4 0h-2v-4h2v4z\"/>\n",
              "    </g>\n",
              "</svg>\n",
              "  </button>\n",
              "\n",
              "<style>\n",
              "  .colab-df-quickchart {\n",
              "      --bg-color: #E8F0FE;\n",
              "      --fill-color: #1967D2;\n",
              "      --hover-bg-color: #E2EBFA;\n",
              "      --hover-fill-color: #174EA6;\n",
              "      --disabled-fill-color: #AAA;\n",
              "      --disabled-bg-color: #DDD;\n",
              "  }\n",
              "\n",
              "  [theme=dark] .colab-df-quickchart {\n",
              "      --bg-color: #3B4455;\n",
              "      --fill-color: #D2E3FC;\n",
              "      --hover-bg-color: #434B5C;\n",
              "      --hover-fill-color: #FFFFFF;\n",
              "      --disabled-bg-color: #3B4455;\n",
              "      --disabled-fill-color: #666;\n",
              "  }\n",
              "\n",
              "  .colab-df-quickchart {\n",
              "    background-color: var(--bg-color);\n",
              "    border: none;\n",
              "    border-radius: 50%;\n",
              "    cursor: pointer;\n",
              "    display: none;\n",
              "    fill: var(--fill-color);\n",
              "    height: 32px;\n",
              "    padding: 0;\n",
              "    width: 32px;\n",
              "  }\n",
              "\n",
              "  .colab-df-quickchart:hover {\n",
              "    background-color: var(--hover-bg-color);\n",
              "    box-shadow: 0 1px 2px rgba(60, 64, 67, 0.3), 0 1px 3px 1px rgba(60, 64, 67, 0.15);\n",
              "    fill: var(--button-hover-fill-color);\n",
              "  }\n",
              "\n",
              "  .colab-df-quickchart-complete:disabled,\n",
              "  .colab-df-quickchart-complete:disabled:hover {\n",
              "    background-color: var(--disabled-bg-color);\n",
              "    fill: var(--disabled-fill-color);\n",
              "    box-shadow: none;\n",
              "  }\n",
              "\n",
              "  .colab-df-spinner {\n",
              "    border: 2px solid var(--fill-color);\n",
              "    border-color: transparent;\n",
              "    border-bottom-color: var(--fill-color);\n",
              "    animation:\n",
              "      spin 1s steps(1) infinite;\n",
              "  }\n",
              "\n",
              "  @keyframes spin {\n",
              "    0% {\n",
              "      border-color: transparent;\n",
              "      border-bottom-color: var(--fill-color);\n",
              "      border-left-color: var(--fill-color);\n",
              "    }\n",
              "    20% {\n",
              "      border-color: transparent;\n",
              "      border-left-color: var(--fill-color);\n",
              "      border-top-color: var(--fill-color);\n",
              "    }\n",
              "    30% {\n",
              "      border-color: transparent;\n",
              "      border-left-color: var(--fill-color);\n",
              "      border-top-color: var(--fill-color);\n",
              "      border-right-color: var(--fill-color);\n",
              "    }\n",
              "    40% {\n",
              "      border-color: transparent;\n",
              "      border-right-color: var(--fill-color);\n",
              "      border-top-color: var(--fill-color);\n",
              "    }\n",
              "    60% {\n",
              "      border-color: transparent;\n",
              "      border-right-color: var(--fill-color);\n",
              "    }\n",
              "    80% {\n",
              "      border-color: transparent;\n",
              "      border-right-color: var(--fill-color);\n",
              "      border-bottom-color: var(--fill-color);\n",
              "    }\n",
              "    90% {\n",
              "      border-color: transparent;\n",
              "      border-bottom-color: var(--fill-color);\n",
              "    }\n",
              "  }\n",
              "</style>\n",
              "\n",
              "  <script>\n",
              "    async function quickchart(key) {\n",
              "      const quickchartButtonEl =\n",
              "        document.querySelector('#' + key + ' button');\n",
              "      quickchartButtonEl.disabled = true;  // To prevent multiple clicks.\n",
              "      quickchartButtonEl.classList.add('colab-df-spinner');\n",
              "      try {\n",
              "        const charts = await google.colab.kernel.invokeFunction(\n",
              "            'suggestCharts', [key], {});\n",
              "      } catch (error) {\n",
              "        console.error('Error during call to suggestCharts:', error);\n",
              "      }\n",
              "      quickchartButtonEl.classList.remove('colab-df-spinner');\n",
              "      quickchartButtonEl.classList.add('colab-df-quickchart-complete');\n",
              "    }\n",
              "    (() => {\n",
              "      let quickchartButtonEl =\n",
              "        document.querySelector('#df-ded9cc79-1eb6-4833-894e-bdc47ec8b99d button');\n",
              "      quickchartButtonEl.style.display =\n",
              "        google.colab.kernel.accessAllowed ? 'block' : 'none';\n",
              "    })();\n",
              "  </script>\n",
              "</div>\n",
              "    </div>\n",
              "  </div>\n"
            ]
          },
          "metadata": {},
          "execution_count": 17
        }
      ]
    },
    {
      "cell_type": "markdown",
      "source": [
        "##Ejemplo de clasificador\n",
        "\n",
        "Utilizaremos un modelo \"RandomForestClassifier\" con hiperparámetros predeterminados.\n",
        "* Usaremos [validación cruzada](https://es.wikipedia.org/wiki/Validaci%C3%B3n_cruzada) y mediremos la puntuación del modelo en métricas de clasificación clave."
      ],
      "metadata": {
        "id": "_gmN-resEUyw"
      }
    },
    {
      "cell_type": "code",
      "source": [
        "# librerías\n",
        "from sklearn.ensemble import RandomForestClassifier\n",
        "from sklearn.model_selection import cross_validate\n"
      ],
      "metadata": {
        "id": "u6r5pAkTEpFm"
      },
      "execution_count": 18,
      "outputs": []
    },
    {
      "cell_type": "code",
      "source": [
        "# inicializa el clasificador (modelo)\n",
        "classifier = RandomForestClassifier()"
      ],
      "metadata": {
        "id": "NU0pf6A-EskA"
      },
      "execution_count": 19,
      "outputs": []
    },
    {
      "cell_type": "code",
      "source": [
        "# ejecuta validación cruzada con 10 grupos\n",
        "scores = cross_validate(\n",
        "    classifier, X, y, cv=10,\n",
        "    # lista de metricas\n",
        "    scoring=['accuracy', 'precision', 'recall', 'f1']\n",
        ")"
      ],
      "metadata": {
        "id": "q0RDPg6CEuZV"
      },
      "execution_count": 20,
      "outputs": []
    },
    {
      "cell_type": "code",
      "source": [
        "# verifica los valores de cada metrica\n",
        "scores = pd.DataFrame(scores)\n",
        "scores.mean().round(4)"
      ],
      "metadata": {
        "colab": {
          "base_uri": "https://localhost:8080/"
        },
        "id": "39sa3hj-EUGW",
        "outputId": "71903c5b-4d46-4717-adf6-e63c092c78ef"
      },
      "execution_count": 21,
      "outputs": [
        {
          "output_type": "execute_result",
          "data": {
            "text/plain": [
              "fit_time          0.1670\n",
              "score_time        0.0080\n",
              "test_accuracy     0.9660\n",
              "test_precision    0.9600\n",
              "test_recall       0.9740\n",
              "test_f1           0.9666\n",
              "dtype: float64"
            ]
          },
          "metadata": {},
          "execution_count": 21
        }
      ]
    },
    {
      "cell_type": "markdown",
      "source": [
        "## Dataset más difícil"
      ],
      "metadata": {
        "id": "QpxDW4o-E1Ku"
      }
    },
    {
      "cell_type": "markdown",
      "source": [
        "Creamos un conjunto de datos que no será tan fácil de clasificar.\n",
        "\n",
        "Puede controlar el nivel de dificultad de un conjunto de datos utilizando los siguientes parámetros de la función make_classification: flip_y: agrega ruido al voltear algunas etiquetas.\n",
        "\n",
        "* Por ejemplo, cambie algunas etiquetas de 0 a 1 y viceversa.\n",
        "* Un valor más alto voltea más etiquetas y, por tanto, añade más ruido. * El valor predeterminado es 0,01.\n",
        "* class_sep: controla el espacio entre las clases de etiquetas.\n",
        "* Un valor menor reduce el espacio y, por tanto, dificulta la clasificación.\n",
        "* El valor predeterminado es 1,0.\n",
        "* Usaremos un valor más alto para flip_y y un valor más bajo para class_sep para crear un conjunto de datos desafiante"
      ],
      "metadata": {
        "id": "5yZ7GWF3FAxd"
      }
    },
    {
      "cell_type": "code",
      "source": [
        "# crea un muevo conjunto de datos\n",
        "X2, y2 = make_classification(\n",
        "    # similar al anterior\n",
        "    n_samples=1000, n_features=5, n_informative=3, n_classes=2,\n",
        "    # agrega ruido\n",
        "    flip_y=0.1,\n",
        "    # a menor valor reduce la separación entre clases\n",
        "    class_sep=0.5\n",
        ")\n"
      ],
      "metadata": {
        "id": "Ze5PZZ6cE7c0"
      },
      "execution_count": 22,
      "outputs": []
    },
    {
      "cell_type": "code",
      "source": [
        "# verifica la distribución de clases\n",
        "pd.DataFrame(y2).value_counts()"
      ],
      "metadata": {
        "colab": {
          "base_uri": "https://localhost:8080/"
        },
        "id": "flitL_biFo5J",
        "outputId": "95b82e27-25ab-4288-de78-95f1551d9666"
      },
      "execution_count": 23,
      "outputs": [
        {
          "output_type": "execute_result",
          "data": {
            "text/plain": [
              "1    506\n",
              "0    494\n",
              "dtype: int64"
            ]
          },
          "metadata": {},
          "execution_count": 23
        }
      ]
    },
    {
      "cell_type": "markdown",
      "source": [
        "Clasificación del conjunto de datos más complejo.\n",
        "* Construyamos nuevamente un modelo RandomForestClassifier con hiperparámetros predeterminados.\n",
        "* Esta vez, entrenaremos el modelo con el conjunto de datos más complejo que acabamos de crear."
      ],
      "metadata": {
        "id": "yY4HEP26FyRn"
      }
    },
    {
      "cell_type": "code",
      "source": [
        "# usamos el modelo de Random Forest\n",
        "classifier2 = RandomForestClassifier()"
      ],
      "metadata": {
        "id": "GwfQemNXF8Yk"
      },
      "execution_count": 24,
      "outputs": []
    },
    {
      "cell_type": "code",
      "source": [
        "# metricas\n",
        "scores2 = cross_validate(\n",
        "    classifier2, X2, y2, cv=10,\n",
        "    scoring=['accuracy', 'precision', 'recall', 'f1']\n",
        ")"
      ],
      "metadata": {
        "id": "0_iVnWqfF-wZ"
      },
      "execution_count": 25,
      "outputs": []
    },
    {
      "cell_type": "code",
      "source": [
        "# verifica los valores de cada metrica\n",
        "scores2 = pd.DataFrame(scores2)\n",
        "scores2.mean()"
      ],
      "metadata": {
        "colab": {
          "base_uri": "https://localhost:8080/"
        },
        "id": "Jd96zSb8F5_-",
        "outputId": "026b4a43-1756-433d-bf62-7a5fe2e4e717"
      },
      "execution_count": 26,
      "outputs": [
        {
          "output_type": "execute_result",
          "data": {
            "text/plain": [
              "fit_time          0.192358\n",
              "score_time        0.007947\n",
              "test_accuracy     0.785000\n",
              "test_precision    0.770133\n",
              "test_recall       0.826118\n",
              "test_f1           0.795408\n",
              "dtype: float64"
            ]
          },
          "metadata": {},
          "execution_count": 26
        }
      ]
    },
    {
      "cell_type": "markdown",
      "source": [
        "La exactitud, la precisión, la recuperación y la puntuación F1 de este modelo rondan el 75-76%.\n",
        "* Esa es una fuerte disminución del 88% para el modelo entrenado con el conjunto de datos más sencillo.\n",
        "* ¡Los valores personalizados para los parámetros flip_y y class_sep funcionaron!\n",
        "* Crearon un conjunto de datos que es más difícil de clasificar."
      ],
      "metadata": {
        "id": "NMGWpxXIGK3y"
      }
    },
    {
      "cell_type": "markdown",
      "source": [
        "## Conjunto de datos desbalanceado\n",
        "\n",
        "Hasta ahora, hemos creado conjuntos de datos con un número aproximadamente igual de observaciones asignadas a cada clase de etiqueta.\n",
        "\n",
        "* ¿Qué pasaría si quisieras un conjunto de datos con clases desequilibradas?\n",
        "* Es decir, ¿un conjunto de datos donde una de las clases de etiquetas ocurre raramente?\n",
        "* Puede utilizar las ponderaciones de los parámetros para controlar la proporción de observaciones asignadas a cada clase."
      ],
      "metadata": {
        "id": "8V6FuSytGU8T"
      }
    },
    {
      "cell_type": "code",
      "source": [
        "# crea un conjunto de datos\n",
        "X3, y3 = make_classification(\n",
        "    # parametros usuales\n",
        "    n_samples=1000, n_features=5, n_informative=3, n_classes=2,\n",
        "    # 97% clase 0 y 3% el resto\n",
        "    weights=[0.97],\n",
        ")"
      ],
      "metadata": {
        "id": "8c5OdAEgGqMu"
      },
      "execution_count": 27,
      "outputs": []
    },
    {
      "cell_type": "markdown",
      "source": [
        "Confirmamos el debalance de clases.\n"
      ],
      "metadata": {
        "id": "_7jhrhUqGpiP"
      }
    },
    {
      "cell_type": "code",
      "source": [
        "# verifica la distribución de clases\n",
        "pd.DataFrame(y3).value_counts()"
      ],
      "metadata": {
        "colab": {
          "base_uri": "https://localhost:8080/"
        },
        "id": "7f9PjYalGvP3",
        "outputId": "22080bf4-6403-4325-9968-367ea36e3606"
      },
      "execution_count": 28,
      "outputs": [
        {
          "output_type": "execute_result",
          "data": {
            "text/plain": [
              "0    965\n",
              "1     35\n",
              "dtype: int64"
            ]
          },
          "metadata": {},
          "execution_count": 28
        }
      ]
    },
    {
      "cell_type": "markdown",
      "source": [
        "Efectivamente, make_classification() asignó aproximadamente el 3% de las observaciones a la clase 1."
      ],
      "metadata": {
        "id": "bHnm1KRYHBoM"
      }
    },
    {
      "cell_type": "markdown",
      "source": [
        "Clasificación de conjuntos de datos desequilibrados.\n",
        "\n",
        "Como antes, crearemos un modelo RandomForestClassifier con hiperparámetros predeterminados.\n",
        "\n",
        "Y luego entrenarlo en el conjunto de datos desequilibrado."
      ],
      "metadata": {
        "id": "lqKd7WEOHLW7"
      }
    },
    {
      "cell_type": "code",
      "source": [
        "# usamos el modelo de Random Forest\n",
        "classifier3 = RandomForestClassifier()"
      ],
      "metadata": {
        "id": "FsnecSZCHVy0"
      },
      "execution_count": 29,
      "outputs": []
    },
    {
      "cell_type": "code",
      "source": [
        "# aplicamos validación cruzada\n",
        "scores3 = cross_validate(\n",
        "    classifier3, X3, y3, cv=10,\n",
        "    scoring=['accuracy', 'precision', 'recall', 'f1']\n",
        ");\n"
      ],
      "metadata": {
        "id": "S81UKB94HYRI",
        "colab": {
          "base_uri": "https://localhost:8080/"
        },
        "outputId": "0e1be151-0201-4fc5-cf49-4392ae93811b"
      },
      "execution_count": 30,
      "outputs": [
        {
          "output_type": "stream",
          "name": "stderr",
          "text": [
            "/usr/local/lib/python3.10/dist-packages/sklearn/metrics/_classification.py:1344: UndefinedMetricWarning: Precision is ill-defined and being set to 0.0 due to no predicted samples. Use `zero_division` parameter to control this behavior.\n",
            "  _warn_prf(average, modifier, msg_start, len(result))\n",
            "/usr/local/lib/python3.10/dist-packages/sklearn/metrics/_classification.py:1344: UndefinedMetricWarning: Precision is ill-defined and being set to 0.0 due to no predicted samples. Use `zero_division` parameter to control this behavior.\n",
            "  _warn_prf(average, modifier, msg_start, len(result))\n",
            "/usr/local/lib/python3.10/dist-packages/sklearn/metrics/_classification.py:1344: UndefinedMetricWarning: Precision is ill-defined and being set to 0.0 due to no predicted samples. Use `zero_division` parameter to control this behavior.\n",
            "  _warn_prf(average, modifier, msg_start, len(result))\n"
          ]
        }
      ]
    },
    {
      "cell_type": "code",
      "source": [
        "# metricas\n",
        "scores3 = pd.DataFrame(scores)\n",
        "scores3.mean()"
      ],
      "metadata": {
        "colab": {
          "base_uri": "https://localhost:8080/"
        },
        "id": "BWuVUZ8BHTjp",
        "outputId": "5e30eece-a7b7-4e73-921a-8f4bec0595b1"
      },
      "execution_count": 31,
      "outputs": [
        {
          "output_type": "execute_result",
          "data": {
            "text/plain": [
              "fit_time          0.167021\n",
              "score_time        0.008011\n",
              "test_accuracy     0.966000\n",
              "test_precision    0.960012\n",
              "test_recall       0.974039\n",
              "test_f1           0.966618\n",
              "dtype: float64"
            ]
          },
          "metadata": {},
          "execution_count": 31
        }
      ]
    },
    {
      "cell_type": "markdown",
      "source": [
        "La mayoría de las observaciones tienen No como resultado, por lo que es la clase mayoritaria.\n",
        "Y sí, es la clase minoritaria, ya que rara vez ocurre.\n",
        "\n",
        "Cuando la variable de salida tiene una disparidad tan amplia en la frecuencia de clases, decimos que la salida tiene clases desequilibradas y que el conjunto de datos está desequilibrado.\n",
        "\n",
        "¿Qué pasa si usa este conjunto de datos para entrenar un modelo de clasificación? Es posible que el modelo no tenga suficientes observaciones con el resultado Sí para aprender a identificar transacciones fraudulentas.\n",
        "\n",
        "La precisión será un mal indicador del desempeño de un modelo para conjuntos de datos tan desequilibrados. Siga leyendo para averiguar por qué."
      ],
      "metadata": {
        "id": "nJZZOGk1H5jI"
      }
    },
    {
      "cell_type": "markdown",
      "source": [
        "##Conjunto de datos multiclase\n",
        "\n",
        "Hasta ahora, hemos creado etiquetas con sólo dos valores posibles.\n",
        "\n",
        "¿Qué pasaría si quisieras experimentar con conjuntos de datos multiclase donde la etiqueta puede tomar más de dos valores?\n",
        "\n",
        "* Puedes hacerlo usando el parámetro n_classes.\n",
        "* El siguiente código creará una etiqueta con 3 clases."
      ],
      "metadata": {
        "id": "tszyTp9yH5Ue"
      }
    },
    {
      "cell_type": "code",
      "source": [
        "# Multiclase\n",
        "X4, y4 = make_classification(\n",
        "    # mismos parametros\n",
        "    n_samples=1000, n_features=5, n_informative=3,\n",
        "    # ahora usamos 3 clases\n",
        "    n_classes=3,\n",
        ")"
      ],
      "metadata": {
        "id": "L7guZHm0IXuk"
      },
      "execution_count": 32,
      "outputs": []
    },
    {
      "cell_type": "markdown",
      "source": [
        "Confirmemos que la etiqueta efectivamente tiene 3 clases (0, 1 y 2).\n",
        "* Los tres tienen aproximadamente el mismo número de observaciones.\n",
        "* Es decir, tenemos las clases equilibradas."
      ],
      "metadata": {
        "id": "wdzuG2V6J2vt"
      }
    },
    {
      "cell_type": "code",
      "source": [
        "# Datos con 3 clases (0, 1 y 2):\n",
        "pd.DataFrame(y4).value_counts()"
      ],
      "metadata": {
        "colab": {
          "base_uri": "https://localhost:8080/"
        },
        "id": "vgUSLoDDIf07",
        "outputId": "3ce1af48-cde3-4e25-a3e2-1a8b892f4ace"
      },
      "execution_count": 33,
      "outputs": [
        {
          "output_type": "execute_result",
          "data": {
            "text/plain": [
              "2    335\n",
              "1    334\n",
              "0    331\n",
              "dtype: int64"
            ]
          },
          "metadata": {},
          "execution_count": 33
        }
      ]
    },
    {
      "cell_type": "markdown",
      "source": [
        "##Conjunto de datos desequilibrado multiclase\n",
        "\n",
        "Puede crear fácilmente conjuntos de datos con etiquetas multiclase desequilibradas.\n",
        "* Simplemente use el parámetro n_classes junto con los pesos.\n",
        "* En el siguiente código, le pedimos a make_classification() que asigne solo el 4% de las observaciones a la clase 0.\n",
        "* Y divida el resto de las observaciones en partes iguales entre las clases restantes (48% cada una)."
      ],
      "metadata": {
        "id": "fkrOW1GZKZ2F"
      }
    },
    {
      "cell_type": "code",
      "source": [
        "# creamos otro conjunto de datos\n",
        "X5, y5 = make_classification(\n",
        "    # same parameters as usual\n",
        "    n_samples=1000, n_features=5, n_informative=3,\n",
        "    # create target label with 3 classes\n",
        "    n_classes=3,\n",
        "    # assign 4% of rows to class 0, 48% to class 1\n",
        "    # and the rest to class 2\n",
        "    weights=[0.04, 0.48]\n",
        ")"
      ],
      "metadata": {
        "id": "NabyrJdBJ8U6"
      },
      "execution_count": 34,
      "outputs": []
    },
    {
      "cell_type": "markdown",
      "source": [
        "Confirmemos el desequilibrio de clases.\n",
        "* La clase 0 tiene solo 44 observaciones de 1000."
      ],
      "metadata": {
        "id": "0mHDuPC1KrGP"
      }
    },
    {
      "cell_type": "code",
      "source": [
        "# verifica la distribución de clases\n",
        "pd.DataFrame(y5).value_counts()"
      ],
      "metadata": {
        "colab": {
          "base_uri": "https://localhost:8080/"
        },
        "id": "T1NJsy4NKvBu",
        "outputId": "631f5100-704b-4e7b-a222-291582be8147"
      },
      "execution_count": 35,
      "outputs": [
        {
          "output_type": "execute_result",
          "data": {
            "text/plain": [
              "1    478\n",
              "2    476\n",
              "0     46\n",
              "dtype: int64"
            ]
          },
          "metadata": {},
          "execution_count": 35
        }
      ]
    }
  ]
}
