{
  "nbformat": 4,
  "nbformat_minor": 0,
  "metadata": {
    "colab": {
      "provenance": []
    },
    "kernelspec": {
      "name": "python3",
      "display_name": "Python 3"
    },
    "language_info": {
      "name": "python"
    }
  },
  "cells": [
    {
      "cell_type": "markdown",
      "source": [
        "#ID0309 - Aprendizaje Estadístico\n",
        "\n",
        "### Otoño 2023\n",
        "\n",
        "### ID0309_Lab_3.3\n",
        "\n",
        "**Enrique Naredo García**\n",
        "\n",
        "<font size = 2>\n",
        "©️ Todos los derechos reservados. All rights reserved.\n",
        "\n",
        "*Nota: El presente documento es una herramienta diseñada única y exclusivamente para los estudiantes de la asignatura arriba mencionada. Se recuerda no compartir esta información fuera de los integrantes registrados en este curso. La reproducción total o parcial de este documento requiere autorización por escrito del titular del copyright.*\n",
        "</font>"
      ],
      "metadata": {
        "id": "2lbC_ULQJiEP"
      }
    },
    {
      "cell_type": "markdown",
      "source": [
        "#Mapa Autoorganizado"
      ],
      "metadata": {
        "id": "r2f_MozqKD5y"
      }
    },
    {
      "cell_type": "markdown",
      "source": [
        "Un [mapa autoorganizado](https://es.wikipedia.org/wiki/Mapa_autoorganizado) (en inglés: self-organizing map, SOM) o un mapa autoorganizado de características (self-organizing feature map, SOFM) es un tipo de red neuronal artificial (ANN por sus siglas en inglés), que es entrenada usando aprendizaje no supervisado para producir una representación discreta del espacio de las muestras de entrada, llamado mapa."
      ],
      "metadata": {
        "id": "Twp1EXCPJ3ra"
      }
    },
    {
      "cell_type": "markdown",
      "source": [
        "El mapa autoorganizado (SOM) es un algoritmo de aprendizaje automático no supervisado introducido por Teuvo Kohonen en la década de 1980.\n",
        "* Como sugiere el nombre, el mapa se organiza solo sin instrucciones de otros.\n",
        "* Es un modelo inspirado en el cerebro humano.\n",
        "* Un área diferente de la corteza cerebral de nuestro cerebro es responsable de actividades específicas.\n",
        "* Una información sensorial como la visión, el oído, el olfato y el gusto se asigna a las neuronas de un área de la corteza correspondiente a través de sinapsis de forma autoorganizada.\n",
        "* También se sabe que las neuronas con una producción similar están próximas.\n"
      ],
      "metadata": {
        "id": "bYX-FhsOK96q"
      }
    },
    {
      "cell_type": "markdown",
      "source": [
        "SOM se entrena a través de una red neuronal competitiva, una red de retroalimentación de una sola capa que se asemeja a estos mecanismos cerebrales.\n",
        "\n",
        "* El algoritmo del SOM es relativamente simple, pero puede haber cierta confusión a primera vista y dificultades para saber cómo aplicarlo en la práctica.\n",
        "* Quizás sea porque SOM puede entenderse desde múltiples perspectivas.\n",
        "* Es como el Análisis de Componentes Principales (PCA) para la reducción de dimensionalidad y visualización.\n",
        "* SOM también puede considerarse un tipo de aprendizaje múltiple que maneja la reducción de dimensionalidad no lineal.\n",
        "* SOM también se utiliza en minería de datos por su propiedad de cuantificación vectorial.\n",
        "* El tren puede representar datos observables de alta dimensión en un espacio latente de menor dimensión, generalmente en una cuadrícula cuadrada 2D, preservando al mismo tiempo la topología del espacio de entrada original.\n",
        "* Pero el mapa también se puede utilizar para proyectar nuevos puntos de datos y ver qué grupo pertenece al mapa."
      ],
      "metadata": {
        "id": "ytgrxbTCLRaq"
      }
    },
    {
      "cell_type": "markdown",
      "source": [
        "En este ejemplo, el objetivo es la comprensión de la red neuronal de mapas autoorganizados con código Python Aprendizaje automático no supervisado inspirado en el cerebro a través de la competencia, la cooperación y la adaptación"
      ],
      "metadata": {
        "id": "Ep0oHjDKJ3KT"
      }
    },
    {
      "cell_type": "code",
      "execution_count": 1,
      "metadata": {
        "id": "hy-czyGNDUXF"
      },
      "outputs": [],
      "source": [
        "# importar librerías\n",
        "import numpy as np\n",
        "from numpy.ma.core import ceil\n",
        "from scipy.spatial import distance\n",
        "from sklearn.preprocessing import MinMaxScaler\n",
        "from sklearn.model_selection import train_test_split\n",
        "from sklearn.metrics import accuracy_score\n",
        "from sklearn.metrics import confusion_matrix\n",
        "import matplotlib.pyplot as plt\n",
        "from matplotlib import animation, colors"
      ]
    },
    {
      "cell_type": "code",
      "source": [
        "# montar Google drive\n",
        "from google.colab import drive\n",
        "drive.mount('/content/drive/')"
      ],
      "metadata": {
        "id": "_jYDLgKHF5k4",
        "colab": {
          "base_uri": "https://localhost:8080/"
        },
        "outputId": "40d68ea2-2c46-4a97-d452-00634fe7c8fa"
      },
      "execution_count": 2,
      "outputs": [
        {
          "output_type": "stream",
          "name": "stdout",
          "text": [
            "Mounted at /content/drive/\n"
          ]
        }
      ]
    },
    {
      "cell_type": "code",
      "source": [
        "# datos utilizado en este ejemplo\n",
        "# banknote authentication Data Set\n",
        "# https://archive.ics.uci.edu/ml/datasets/banknote+authentication\n",
        "# Dua, D. and Graff, C. (2019). UCI Machine Learning Repository [http://archive.ics.uci.edu/ml].\n",
        "# Irvine, CA: University of California, School of Information and Computer Science.\n",
        "\n",
        "data_file = \"data_banknote_authentication.txt\"\n",
        "path_file = \"/content/drive/MyDrive/Datasets/\""
      ],
      "metadata": {
        "id": "s0p6-23UFLHw"
      },
      "execution_count": 3,
      "outputs": []
    },
    {
      "cell_type": "code",
      "source": [
        "# datos\n",
        "data_x = np.loadtxt(path_file+data_file,\n",
        "    delimiter=\",\", skiprows=0, usecols=range(0,4),\n",
        "    dtype=np.float64)\n",
        "\n",
        "print(data_x)"
      ],
      "metadata": {
        "colab": {
          "base_uri": "https://localhost:8080/"
        },
        "id": "PN3dlr9eMHtf",
        "outputId": "f031b52d-6f08-4cd2-dc2e-4ef0d1911027"
      },
      "execution_count": 4,
      "outputs": [
        {
          "output_type": "stream",
          "name": "stdout",
          "text": [
            "[[  3.6216    8.6661   -2.8073   -0.44699]\n",
            " [  4.5459    8.1674   -2.4586   -1.4621 ]\n",
            " [  3.866    -2.6383    1.9242    0.10645]\n",
            " ...\n",
            " [ -3.7503  -13.4586   17.5932   -2.7771 ]\n",
            " [ -3.5637   -8.3827   12.393    -1.2823 ]\n",
            " [ -2.5419   -0.65804   2.6842    1.1952 ]]\n"
          ]
        }
      ]
    },
    {
      "cell_type": "code",
      "source": [
        "# clases\n",
        "data_y = np.loadtxt(path_file+data_file,\n",
        "          delimiter=\",\", skiprows=0, usecols=(4,),\n",
        "                    dtype=np.int64)\n",
        "print(data_y)"
      ],
      "metadata": {
        "colab": {
          "base_uri": "https://localhost:8080/"
        },
        "id": "6rjAKp0YMXVb",
        "outputId": "eb995710-db9e-4d28-edb4-898548bcc90d"
      },
      "execution_count": 5,
      "outputs": [
        {
          "output_type": "stream",
          "name": "stdout",
          "text": [
            "[0 0 0 ... 1 1 1]\n"
          ]
        }
      ]
    },
    {
      "cell_type": "code",
      "source": [
        "# datos de entrenamiento y prueba\n",
        "train_x, test_x, train_y, test_y = \\\n",
        "      train_test_split(data_x, data_y, test_size=0.2,\n",
        "      random_state=42)\n",
        "\n",
        "print(train_x.shape, train_y.shape,\n",
        "      test_x.shape, test_y.shape)"
      ],
      "metadata": {
        "id": "kBNQTkLrFLEF",
        "colab": {
          "base_uri": "https://localhost:8080/"
        },
        "outputId": "75ceacd9-fb65-461c-ea66-7465093c6d3d"
      },
      "execution_count": 6,
      "outputs": [
        {
          "output_type": "stream",
          "name": "stdout",
          "text": [
            "(1097, 4) (1097,) (275, 4) (275,)\n"
          ]
        }
      ]
    },
    {
      "cell_type": "code",
      "source": [
        "# normalización de datos\n",
        "def normalizacion(data):\n",
        "  escalar = MinMaxScaler()\n",
        "  escalado = escalar.fit_transform(data)\n",
        "  return escalado"
      ],
      "metadata": {
        "id": "Qar7XEeQMxQ9"
      },
      "execution_count": 7,
      "outputs": []
    },
    {
      "cell_type": "code",
      "source": [
        "# distancia Euclideana\n",
        "def dist_Euclideana(x,y):\n",
        "  return distance.euclidean(x,y)"
      ],
      "metadata": {
        "id": "7vSvv8s8M3XR"
      },
      "execution_count": 8,
      "outputs": []
    },
    {
      "cell_type": "code",
      "source": [
        "# distancia de Manhattan\n",
        "def dist_Manhattan(x,y):\n",
        "  return distance.cityblock(x,y)"
      ],
      "metadata": {
        "id": "H_IzDSC9NKtF"
      },
      "execution_count": 9,
      "outputs": []
    },
    {
      "cell_type": "code",
      "source": [
        "# busca la neurona ganadora dentro del mapa (som)\n",
        "# Best Matching Unit search (BMUS)\n",
        "# t = indice de muestra aleatoria de entrenamiento\n",
        "def BMUS(data, t, som):\n",
        "  ganadora = [0,0]\n",
        "  # inicializa con la distancia más grande\n",
        "  dist_mascorta = np.sqrt(data.shape[1])\n",
        "  # distancia más corta de la muestra con los valores en el mapa\n",
        "  for row in range(som.shape[0]):\n",
        "    for col in range(som.shape[1]):\n",
        "      # calcula la distancia Euclideana\n",
        "      distancia = dist_Euclideana(som[row][col], data[t])\n",
        "      # checa si encontro una distancia más corta\n",
        "      if distancia < dist_mascorta:\n",
        "        # actualiza la distancia más corta\n",
        "        dist_mascorta = distancia\n",
        "        # coordenadas de la celda\n",
        "        ganadora = [row,col]\n",
        "  # regresa las coordenadas de la celda\n",
        "  return ganadora"
      ],
      "metadata": {
        "id": "-oVdognENVDz"
      },
      "execution_count": 10,
      "outputs": []
    },
    {
      "cell_type": "code",
      "source": [
        "# tasa de aprendizaje y rango de vecindad\n",
        "def decaimiento(iter, max_iters, max_tasa_aprendizaje,\n",
        "                max_m_distancia):\n",
        "  coeficiente = 1.0 - (np.float64(iter) / max_iters)\n",
        "  tasa_aprendizaje = coeficiente * max_tasa_aprendizaje\n",
        "  rango_vecindario = ceil(coeficiente * max_m_distancia)\n",
        "  return tasa_aprendizaje, rango_vecindario"
      ],
      "metadata": {
        "id": "yjTuta-PFLAM"
      },
      "execution_count": 11,
      "outputs": []
    },
    {
      "cell_type": "code",
      "source": [
        "# normalización de datos de entrenamiento\n",
        "train_x_norm = normalizacion(train_x)\n",
        "print(\"mínimo: \", np.min(train_x_norm))\n",
        "print(\"máximo: \", np.max(train_x_norm))"
      ],
      "metadata": {
        "id": "AsDRAl8JPMb_",
        "colab": {
          "base_uri": "https://localhost:8080/"
        },
        "outputId": "e7733692-4126-4f81-ccf1-23f28d369851"
      },
      "execution_count": 12,
      "outputs": [
        {
          "output_type": "stream",
          "name": "stdout",
          "text": [
            "mínimo:  0.0\n",
            "máximo:  1.0000000000000002\n"
          ]
        }
      ]
    },
    {
      "cell_type": "code",
      "source": [
        "# initialización SOM\n",
        "\n",
        "# número de dimensiones en los datos de entrada\n",
        "num_dims = train_x_norm.shape[1]\n",
        "print(num_dims)\n",
        "np.random.seed(7)"
      ],
      "metadata": {
        "id": "pC_5AM4kPUap",
        "colab": {
          "base_uri": "https://localhost:8080/"
        },
        "outputId": "16a7e9e8-04c1-4b30-96d1-7287b6e6a8e0"
      },
      "execution_count": 13,
      "outputs": [
        {
          "output_type": "stream",
          "name": "stdout",
          "text": [
            "4\n"
          ]
        }
      ]
    },
    {
      "cell_type": "code",
      "source": [
        "# hiperparametros\n",
        "num_filas = 10\n",
        "num_cols = 10\n",
        "max_m_distancia = 4\n",
        "max_tasa_aprendizaje = 0.5\n",
        "max_iters = int(5*10e3) #50000"
      ],
      "metadata": {
        "id": "qKZkPwoBH8LT"
      },
      "execution_count": 14,
      "outputs": []
    },
    {
      "cell_type": "code",
      "source": [
        "# construcción de SOM\n",
        "# pesos aleatorios en el rango de [0,1]\n",
        "som = np.random.random_sample(size=(num_filas, num_cols,\n",
        "                                    num_dims))\n",
        "print(\"SOM con dimensiones de: \",som.shape)\n",
        "print(f\"El valor mínimo es de {np.min(som)}, \\\n",
        "        y \\nel valor máximo es de {np.max(som)}\")"
      ],
      "metadata": {
        "id": "_kfpObncPtrD",
        "colab": {
          "base_uri": "https://localhost:8080/"
        },
        "outputId": "89a9f948-c11a-404d-fb82-6f0325d46a69"
      },
      "execution_count": 15,
      "outputs": [
        {
          "output_type": "stream",
          "name": "stdout",
          "text": [
            "SOM con dimensiones de:  (10, 10, 4)\n",
            "El valor mínimo es de 0.0014268805627581926,         y \n",
            "el valor máximo es de 0.999208301397325\n"
          ]
        }
      ]
    },
    {
      "cell_type": "code",
      "source": [
        "print(som)"
      ],
      "metadata": {
        "colab": {
          "base_uri": "https://localhost:8080/"
        },
        "id": "G0C4tKLMc43P",
        "outputId": "01649b48-4cbc-424a-f8ce-191a72fb5575"
      },
      "execution_count": 16,
      "outputs": [
        {
          "output_type": "stream",
          "name": "stdout",
          "text": [
            "[[[0.07630829 0.77991879 0.43840923 0.72346518]\n",
            "  [0.97798951 0.53849587 0.50112046 0.07205113]\n",
            "  [0.26843898 0.4998825  0.67923    0.80373904]\n",
            "  [0.38094113 0.06593635 0.2881456  0.90959353]\n",
            "  [0.21338535 0.45212396 0.93120602 0.02489923]\n",
            "  [0.60054892 0.9501295  0.23030288 0.54848992]\n",
            "  [0.90912837 0.13316945 0.52341258 0.75040986]\n",
            "  [0.66901324 0.46775286 0.20484909 0.49076589]\n",
            "  [0.37238469 0.47740115 0.36589039 0.83791799]\n",
            "  [0.76864751 0.31399468 0.57262533 0.27604905]]\n",
            "\n",
            " [[0.45284293 0.35297837 0.65739946 0.37035108]\n",
            "  [0.45909298 0.71932412 0.41299183 0.90642327]\n",
            "  [0.18045162 0.74111887 0.42237404 0.42645357]\n",
            "  [0.63437987 0.5229062  0.41488598 0.00142688]\n",
            "  [0.09226235 0.70939439 0.5243456  0.69616046]\n",
            "  [0.95546832 0.68291385 0.05312869 0.30885268]\n",
            "  [0.59259469 0.23512041 0.964971   0.94504822]\n",
            "  [0.84840088 0.472324   0.84147671 0.13111064]\n",
            "  [0.30873366 0.46299639 0.7418472  0.48582523]\n",
            "  [0.13687612 0.34353653 0.32442617 0.3004189 ]]\n",
            "\n",
            " [[0.1655014  0.41490177 0.44812066 0.77490038]\n",
            "  [0.7963907  0.52239013 0.4606303  0.7782136 ]\n",
            "  [0.88728895 0.67491877 0.80047905 0.93911135]\n",
            "  [0.04065581 0.87567172 0.27656307 0.4757645 ]\n",
            "  [0.79676096 0.71724223 0.14714757 0.65874826]\n",
            "  [0.06925207 0.35707063 0.81282955 0.42770483]\n",
            "  [0.59985444 0.72816128 0.82122761 0.76051512]\n",
            "  [0.00714328 0.42025683 0.46313622 0.0554995 ]\n",
            "  [0.54144213 0.60777075 0.82845319 0.94180927]\n",
            "  [0.12814785 0.23043067 0.6591584  0.13247399]]\n",
            "\n",
            " [[0.22407864 0.57486259 0.16952372 0.78223015]\n",
            "  [0.85697563 0.0336742  0.5326448  0.79695136]\n",
            "  [0.97513968 0.27425859 0.16910106 0.87670093]\n",
            "  [0.90918246 0.19753289 0.44152974 0.71923214]\n",
            "  [0.84534516 0.16827531 0.66496896 0.80783546]\n",
            "  [0.54971412 0.16471666 0.0355288  0.28153382]\n",
            "  [0.80787085 0.04476626 0.00821651 0.36161665]\n",
            "  [0.06362229 0.1494863  0.02319037 0.52471984]\n",
            "  [0.6966959  0.42705349 0.13457046 0.33135721]\n",
            "  [0.59034585 0.94066139 0.99255772 0.24160292]]\n",
            "\n",
            " [[0.01057991 0.83064033 0.92661294 0.45860348]\n",
            "  [0.77144234 0.86619903 0.6096148  0.87262718]\n",
            "  [0.02390303 0.27159522 0.27721958 0.12063243]\n",
            "  [0.91071345 0.03043927 0.67256103 0.07133969]\n",
            "  [0.36078049 0.41809954 0.18140429 0.5210141 ]\n",
            "  [0.53499176 0.31704388 0.73708806 0.16020241]\n",
            "  [0.19250822 0.35451102 0.37837613 0.20628586]\n",
            "  [0.91870921 0.82809357 0.10687674 0.36948592]\n",
            "  [0.2326711  0.4510786  0.27631719 0.50180689]\n",
            "  [0.92260315 0.38251114 0.65012833 0.59562111]]\n",
            "\n",
            " [[0.75195356 0.06166533 0.74482367 0.94627593]\n",
            "  [0.60355955 0.28757994 0.67236922 0.71204879]\n",
            "  [0.65645029 0.14693032 0.97347557 0.95538345]\n",
            "  [0.42462553 0.59363733 0.03962857 0.98863433]\n",
            "  [0.81874499 0.63650234 0.76108474 0.18802993]\n",
            "  [0.30765459 0.24639364 0.59604912 0.09190485]\n",
            "  [0.89560999 0.46227594 0.44481236 0.1047113 ]\n",
            "  [0.68490404 0.81689399 0.62955017 0.24202261]\n",
            "  [0.78542072 0.14567943 0.82727633 0.58070537]\n",
            "  [0.28937281 0.5132434  0.6288514  0.2585895 ]]\n",
            "\n",
            " [[0.84690656 0.42125371 0.89233746 0.83546856]\n",
            "  [0.09934751 0.64625411 0.31049457 0.7540532 ]\n",
            "  [0.54263166 0.45759887 0.89536678 0.05725356]\n",
            "  [0.55731763 0.3279111  0.03527334 0.75351852]\n",
            "  [0.56174066 0.89414534 0.59826123 0.33703428]\n",
            "  [0.98521966 0.11571405 0.05260174 0.73262191]\n",
            "  [0.3708749  0.36146508 0.87653216 0.32729365]\n",
            "  [0.8889886  0.64398798 0.32904954 0.05953265]\n",
            "  [0.24510935 0.9684132  0.40526764 0.16003346]\n",
            "  [0.29801325 0.89957578 0.16497672 0.77786007]]\n",
            "\n",
            " [[0.13486463 0.96139371 0.53020539 0.04316994]\n",
            "  [0.93095468 0.35822554 0.73142128 0.52370801]\n",
            "  [0.0925818  0.10605922 0.14922495 0.16120001]\n",
            "  [0.05275579 0.04701317 0.9484283  0.09129179]\n",
            "  [0.50835168 0.11862982 0.21478785 0.76307207]\n",
            "  [0.93813482 0.46971269 0.00564195 0.9992083 ]\n",
            "  [0.04777321 0.3894479  0.5390567  0.89173344]\n",
            "  [0.82311211 0.60938664 0.39860229 0.83447872]\n",
            "  [0.86905839 0.87190491 0.71763644 0.09778734]\n",
            "  [0.29857943 0.48592206 0.50505337 0.83287341]]\n",
            "\n",
            " [[0.23783677 0.66459076 0.3741999  0.77548255]\n",
            "  [0.19577433 0.47662729 0.10355858 0.21199017]\n",
            "  [0.93517469 0.31604711 0.892977   0.52430309]\n",
            "  [0.03903315 0.79298168 0.0519569  0.82694353]\n",
            "  [0.00879911 0.67411133 0.16571392 0.34287524]\n",
            "  [0.95275139 0.48623347 0.65742639 0.7407351 ]\n",
            "  [0.10992798 0.83879576 0.91391994 0.15542065]\n",
            "  [0.54623843 0.28350512 0.74064673 0.02827039]\n",
            "  [0.512547   0.79281486 0.73473691 0.10818383]\n",
            "  [0.83294011 0.23784073 0.80778763 0.49712883]]\n",
            "\n",
            " [[0.16082577 0.73404068 0.80791295 0.69890115]\n",
            "  [0.96484634 0.25614445 0.23576233 0.14723009]\n",
            "  [0.53940621 0.39944882 0.35666205 0.4603046 ]\n",
            "  [0.27454223 0.00426038 0.47175069 0.27588452]\n",
            "  [0.44978361 0.92887511 0.17900541 0.63748358]\n",
            "  [0.6444149  0.28129318 0.470888   0.96961164]\n",
            "  [0.34246013 0.71234518 0.84021916 0.36069111]\n",
            "  [0.98991413 0.62586924 0.50098527 0.71490752]\n",
            "  [0.42382993 0.71232672 0.27480238 0.92720831]\n",
            "  [0.54196284 0.24164949 0.43719667 0.89509654]]]\n"
          ]
        }
      ]
    },
    {
      "cell_type": "code",
      "source": [
        "# entrenamiento de SOM\n",
        "for iteracion in range(max_iters):\n",
        "  # cada 1000 iteraciones\n",
        "  if (iteracion+1) % 1000 == 0:\n",
        "    # imprime la iteración actual\n",
        "    print(\"Iteración: \", iteracion+1)\n",
        "  # tasa de aprendizaje y vecindario decaen con el tiempo\n",
        "  tasa_aprendizaje, rango_vecindario = decaimiento(iteracion,\n",
        "        max_iters, max_tasa_aprendizaje, max_m_distancia)\n",
        "  # muestra aleatoria de entrenamiento en cada iteración\n",
        "  t = np.random.randint(0,high=train_x_norm.shape[0])\n",
        "  # busca neurona ganadora (coordenadas de la celda)\n",
        "  neurona_ganadora = BMUS(train_x_norm, t, som)\n",
        "  # recorre el mapa (som)\n",
        "  for fila in range(som.shape[0]):\n",
        "    for col in range(som.shape[1]):\n",
        "      # distancia Manhattan o de Block\n",
        "      if dist_Manhattan([fila,col],neurona_ganadora) <= \\\n",
        "        rango_vecindario:\n",
        "        # actualiza el peso del vecindario\n",
        "        som[fila][col] += \\\n",
        "            tasa_aprendizaje*(train_x_norm[t] - som[fila][col])\n",
        "print(\"Entrenamiento de SOM completado.\")"
      ],
      "metadata": {
        "colab": {
          "base_uri": "https://localhost:8080/"
        },
        "id": "fAlC6bdZH8HS",
        "outputId": "a1424917-6282-4c9e-b305-ea209526a978"
      },
      "execution_count": 17,
      "outputs": [
        {
          "output_type": "stream",
          "name": "stdout",
          "text": [
            "Iteración:  1000\n",
            "Iteración:  2000\n",
            "Iteración:  3000\n",
            "Iteración:  4000\n",
            "Iteración:  5000\n",
            "Iteración:  6000\n",
            "Iteración:  7000\n",
            "Iteración:  8000\n",
            "Iteración:  9000\n",
            "Iteración:  10000\n",
            "Iteración:  11000\n",
            "Iteración:  12000\n",
            "Iteración:  13000\n",
            "Iteración:  14000\n",
            "Iteración:  15000\n",
            "Iteración:  16000\n",
            "Iteración:  17000\n",
            "Iteración:  18000\n",
            "Iteración:  19000\n",
            "Iteración:  20000\n",
            "Iteración:  21000\n",
            "Iteración:  22000\n",
            "Iteración:  23000\n",
            "Iteración:  24000\n",
            "Iteración:  25000\n",
            "Iteración:  26000\n",
            "Iteración:  27000\n",
            "Iteración:  28000\n",
            "Iteración:  29000\n",
            "Iteración:  30000\n",
            "Iteración:  31000\n",
            "Iteración:  32000\n",
            "Iteración:  33000\n",
            "Iteración:  34000\n",
            "Iteración:  35000\n",
            "Iteración:  36000\n",
            "Iteración:  37000\n",
            "Iteración:  38000\n",
            "Iteración:  39000\n",
            "Iteración:  40000\n",
            "Iteración:  41000\n",
            "Iteración:  42000\n",
            "Iteración:  43000\n",
            "Iteración:  44000\n",
            "Iteración:  45000\n",
            "Iteración:  46000\n",
            "Iteración:  47000\n",
            "Iteración:  48000\n",
            "Iteración:  49000\n",
            "Iteración:  50000\n",
            "Entrenamiento de SOM completado.\n"
          ]
        }
      ]
    },
    {
      "cell_type": "code",
      "source": [
        "# mapa\n",
        "mapa = np.empty(shape=(num_filas, num_cols), dtype=object)\n",
        "mapa.shape"
      ],
      "metadata": {
        "id": "c7xBkooXU-te",
        "colab": {
          "base_uri": "https://localhost:8080/"
        },
        "outputId": "cb40e37a-f9c0-44c9-de47-a6e1fc3cdb21"
      },
      "execution_count": 18,
      "outputs": [
        {
          "output_type": "execute_result",
          "data": {
            "text/plain": [
              "(10, 10)"
            ]
          },
          "metadata": {},
          "execution_count": 18
        }
      ]
    },
    {
      "cell_type": "code",
      "source": [
        "# lista vacia para guardar las etiquetas\n",
        "for fila in range(num_filas):\n",
        "  for col in range(num_cols):\n",
        "    mapa[fila][col] = []\n",
        "\n",
        "print(mapa)"
      ],
      "metadata": {
        "id": "iT7U2yflVAIl",
        "colab": {
          "base_uri": "https://localhost:8080/"
        },
        "outputId": "b46f9170-ceee-413f-d60c-1de74e7c1104"
      },
      "execution_count": 19,
      "outputs": [
        {
          "output_type": "stream",
          "name": "stdout",
          "text": [
            "[[list([]) list([]) list([]) list([]) list([]) list([]) list([]) list([])\n",
            "  list([]) list([])]\n",
            " [list([]) list([]) list([]) list([]) list([]) list([]) list([]) list([])\n",
            "  list([]) list([])]\n",
            " [list([]) list([]) list([]) list([]) list([]) list([]) list([]) list([])\n",
            "  list([]) list([])]\n",
            " [list([]) list([]) list([]) list([]) list([]) list([]) list([]) list([])\n",
            "  list([]) list([])]\n",
            " [list([]) list([]) list([]) list([]) list([]) list([]) list([]) list([])\n",
            "  list([]) list([])]\n",
            " [list([]) list([]) list([]) list([]) list([]) list([]) list([]) list([])\n",
            "  list([]) list([])]\n",
            " [list([]) list([]) list([]) list([]) list([]) list([]) list([]) list([])\n",
            "  list([]) list([])]\n",
            " [list([]) list([]) list([]) list([]) list([]) list([]) list([]) list([])\n",
            "  list([]) list([])]\n",
            " [list([]) list([]) list([]) list([]) list([]) list([]) list([]) list([])\n",
            "  list([]) list([])]\n",
            " [list([]) list([]) list([]) list([]) list([]) list([]) list([]) list([])\n",
            "  list([]) list([])]]\n"
          ]
        }
      ]
    },
    {
      "cell_type": "code",
      "source": [
        "# etiqueta de la neurona ganadora\n",
        "for d in range(train_x_norm.shape[0]):\n",
        "  ganadora = BMUS(train_x_norm, d, som)\n",
        "  mapa[ganadora[0]][ganadora[1]].append(train_y[d])\n",
        "\n",
        "print(mapa)"
      ],
      "metadata": {
        "id": "eiOun52jH8CE",
        "colab": {
          "base_uri": "https://localhost:8080/"
        },
        "outputId": "6fe7af36-4e10-4241-c5a1-18279567f931"
      },
      "execution_count": 20,
      "outputs": [
        {
          "output_type": "stream",
          "name": "stdout",
          "text": [
            "[[list([0, 1]) list([0, 0, 0, 0, 0, 0, 0, 0, 0, 0, 0, 0, 0, 0, 0])\n",
            "  list([0, 0, 0, 0, 0, 0, 0, 0, 0, 0, 0])\n",
            "  list([0, 0, 0, 0, 0, 0, 0, 0, 0, 0, 0, 0, 0, 0, 0, 0, 0, 0, 0, 0, 0])\n",
            "  list([0, 0, 0, 0]) list([1, 1, 1, 1, 1, 1])\n",
            "  list([0, 0, 0, 0, 0, 0, 0, 0, 0]) list([0, 0, 0, 0, 0, 0])\n",
            "  list([0, 0, 0, 0, 0, 0, 0, 0, 0, 0, 0, 0, 0, 0, 0])\n",
            "  list([0, 0, 0, 0, 0, 0, 0, 0, 0, 0, 0, 0, 0, 0, 0, 0, 0, 0, 0, 0, 0, 0, 0, 0, 0, 0, 0, 0, 0, 0, 0, 0, 0])]\n",
            " [list([1, 1, 1, 1, 1, 1, 1, 1, 1, 1, 1, 1, 1, 1, 1]) list([0, 0, 1, 0])\n",
            "  list([]) list([0, 0]) list([1, 1, 1, 1, 1, 1, 1, 1, 1, 1, 1, 1, 1, 1])\n",
            "  list([1, 1, 1, 1, 1, 1, 1, 1, 1, 1, 1, 1, 1, 1, 1, 1, 1, 1, 1, 1])\n",
            "  list([0, 0]) list([0, 0, 0, 0, 0, 0, 0, 0, 0, 0, 0])\n",
            "  list([0, 0, 0, 0, 0, 0]) list([0, 0, 0, 0, 0, 0, 0, 0])]\n",
            " [list([1, 1, 1, 1, 1, 1, 1, 1, 1, 1, 1, 1, 1, 1, 1])\n",
            "  list([1, 1, 1, 1, 1, 1, 1, 1, 1, 1, 1, 1])\n",
            "  list([1, 1, 1, 1, 1, 1, 1, 1, 1, 1, 1, 1, 1, 1, 1, 1, 1, 1, 1, 1])\n",
            "  list([1, 1, 1, 1, 1, 1, 1, 1]) list([1, 1, 1, 1, 1, 1, 1, 1])\n",
            "  list([1, 0, 1])\n",
            "  list([0, 0, 0, 0, 0, 0, 0, 0, 0, 0, 0, 0, 0, 0, 0, 0, 0, 0, 0, 0, 0])\n",
            "  list([0, 0, 0, 0, 0, 0, 0, 0, 0, 0, 0, 0, 0])\n",
            "  list([0, 0, 0, 0, 0, 0, 0, 0, 0, 0, 0, 0, 0])\n",
            "  list([0, 0, 0, 0, 0, 0, 0, 0, 0, 0, 0, 0])]\n",
            " [list([1, 0, 1, 1]) list([1, 1, 1, 1, 1, 1, 1])\n",
            "  list([1, 1, 1, 1, 1, 1, 1, 1, 1, 1, 1, 1, 1, 1])\n",
            "  list([1, 1, 1, 1, 1, 1, 1, 1, 1, 1, 1, 1, 1, 1, 1, 1])\n",
            "  list([1, 1, 1, 1, 1, 1, 1, 1, 1, 1, 1, 1, 1, 1, 1]) list([0])\n",
            "  list([0, 0, 0, 0, 0, 0, 0, 0, 0])\n",
            "  list([0, 0, 0, 0, 0, 0, 0, 0, 0, 0, 0, 0, 0, 0, 0, 0, 0])\n",
            "  list([0, 0, 0, 0, 0, 0, 0, 0, 0, 0, 0])\n",
            "  list([0, 0, 0, 0, 0, 0, 0, 0, 0, 0, 0, 0, 0, 0])]\n",
            " [list([1, 1, 1, 1, 1, 1, 1, 1, 1, 1, 1])\n",
            "  list([1, 1, 1, 1, 1, 1, 1, 1, 1, 1, 1, 1])\n",
            "  list([1, 1, 1, 1, 1, 1, 1, 1, 1, 1, 1, 1])\n",
            "  list([1, 1, 1, 1, 1, 1, 1, 1, 1, 1])\n",
            "  list([1, 1, 1, 1, 1, 1, 1, 1, 1, 1, 1, 1, 1, 1, 1, 1]) list([0, 0])\n",
            "  list([0, 0, 0, 0, 0, 0, 0, 0, 0, 0, 0, 0, 0, 0, 0, 0, 0, 0])\n",
            "  list([0, 0, 0, 0, 0, 0, 0, 0, 0, 0, 0, 0, 0])\n",
            "  list([0, 0, 0, 0, 0, 0, 0, 0, 0, 0, 0, 0, 0, 0, 0, 0])\n",
            "  list([0, 0, 0, 0, 0, 0, 0, 0, 0])]\n",
            " [list([1, 0, 1])\n",
            "  list([1, 1, 1, 1, 1, 1, 1, 1, 1, 1, 1, 1, 1, 1, 1, 1, 1, 1, 1, 1, 1])\n",
            "  list([1, 1, 1, 1, 1, 1, 1, 1, 1, 1, 1, 1, 1, 1, 1, 1, 1, 1, 1])\n",
            "  list([1, 1, 1, 1, 1, 1, 1, 1, 1, 1, 1, 1, 1, 1, 1])\n",
            "  list([1, 1, 1, 1, 1, 1, 1, 1, 1, 1, 1, 1, 1, 1, 1, 1])\n",
            "  list([0, 0, 0, 0, 0, 0, 0, 0, 0]) list([0, 0, 0, 0, 0, 0, 0, 0, 0, 0])\n",
            "  list([0, 0, 0, 0, 0, 0, 0, 0, 0]) list([0, 0, 0, 0, 0, 0])\n",
            "  list([0, 0, 0, 0, 0, 0, 0, 0, 0])]\n",
            " [list([0, 0, 0, 0, 0, 0, 0, 0, 0, 0, 0, 0, 0, 0, 0, 0, 0, 0]) list([])\n",
            "  list([1, 1, 1, 1]) list([1, 1, 1, 1, 1, 1, 1, 1, 1, 1, 1, 1])\n",
            "  list([1, 1, 1, 1, 1, 1, 1, 1]) list([0, 0, 0, 0, 0, 0, 0])\n",
            "  list([0, 0, 0, 0, 0, 0, 0, 0])\n",
            "  list([0, 0, 0, 0, 0, 0, 0, 0, 0, 0, 0, 0])\n",
            "  list([0, 0, 0, 0, 0, 0, 0, 0, 0, 0, 0, 0, 0])\n",
            "  list([0, 0, 0, 0, 0, 0, 0, 0, 0, 0, 0, 0])]\n",
            " [list([]) list([1, 1, 1, 1, 1, 1])\n",
            "  list([1, 1, 1, 1, 1, 1, 1, 1, 1, 1, 1, 1, 1, 1, 1, 1, 1, 1, 1, 1])\n",
            "  list([1, 1, 1, 1, 1, 1, 1, 1, 1, 1, 1, 1, 1, 1, 1, 1, 1])\n",
            "  list([0, 0, 0, 0, 0, 0]) list([0, 0, 0, 0, 0, 0, 0, 0, 0, 0, 0])\n",
            "  list([0, 0, 0, 0, 0, 0, 0, 0, 0, 0, 0, 0])\n",
            "  list([0, 0, 0, 0, 0, 0, 0, 0])\n",
            "  list([0, 0, 0, 0, 0, 0, 0, 0, 0, 0, 0, 0, 0, 0, 0, 0])\n",
            "  list([0, 0, 0, 0, 0, 0, 0, 0, 0, 0, 0, 0, 0, 0, 0, 0, 0, 0, 0, 0, 0, 0])]\n",
            " [list([1, 1, 1, 1, 1])\n",
            "  list([1, 1, 1, 1, 1, 1, 1, 1, 1, 1, 1, 1, 1, 1, 1, 1, 1, 1, 1])\n",
            "  list([1, 1, 1, 1, 1, 1, 1, 1, 1, 1])\n",
            "  list([1, 1, 1, 1, 1, 1, 1, 1, 1, 1, 1, 1, 1, 1, 1, 1, 1, 1, 1, 1, 1])\n",
            "  list([0, 0, 0, 0, 0]) list([0, 0, 0, 0, 0, 0]) list([0, 0, 0, 0])\n",
            "  list([0, 0, 0, 0, 0, 0, 0, 0]) list([0, 0]) list([0, 0, 0])]\n",
            " [list([1, 1, 1, 1, 1, 1, 1, 1, 1, 1, 1, 1, 1, 1, 1, 1, 1, 1, 1, 1])\n",
            "  list([1, 1, 1, 1, 1])\n",
            "  list([1, 1, 1, 1, 1, 1, 1, 1, 1, 1, 1, 1, 1, 1, 1, 1, 1, 1, 1, 1, 1, 1])\n",
            "  list([1, 0, 1, 1, 0])\n",
            "  list([0, 0, 0, 0, 0, 0, 0, 0, 0, 0, 0, 0, 0, 0, 0, 0, 0])\n",
            "  list([0, 0, 0, 0, 0, 0]) list([0, 0, 0, 0, 0, 0, 0, 0, 0, 0, 0, 0])\n",
            "  list([0, 0, 0, 0, 0, 0, 0, 0, 0, 0, 0, 0, 0, 0, 0, 0])\n",
            "  list([0, 0, 0, 0, 0, 0, 0, 0])\n",
            "  list([0, 0, 0, 0, 0, 0, 0, 0, 0, 0, 0, 0, 0, 0, 0, 0, 0, 0])]]\n"
          ]
        }
      ]
    },
    {
      "cell_type": "code",
      "source": [
        "# construcción de mapa de etiquetas\n",
        "mapa_etiquetas = np.zeros(shape=(num_filas, num_cols),\n",
        "                          dtype=np.int64)\n",
        "for fila in range(num_filas):\n",
        "  for col in range(num_cols):\n",
        "    lista_etiquetas = mapa[fila][col]\n",
        "    if len(lista_etiquetas)==0:\n",
        "      etiqueta = 2\n",
        "    else:\n",
        "      etiqueta = max(lista_etiquetas,\n",
        "                     key=lista_etiquetas.count)\n",
        "    mapa_etiquetas[fila][col] = etiqueta\n",
        "\n",
        "print(mapa_etiquetas)"
      ],
      "metadata": {
        "id": "hNkn0mtTI9in",
        "colab": {
          "base_uri": "https://localhost:8080/"
        },
        "outputId": "5cfcbbff-88c7-484e-ee5a-3a196cd98881"
      },
      "execution_count": 21,
      "outputs": [
        {
          "output_type": "stream",
          "name": "stdout",
          "text": [
            "[[0 0 0 0 0 1 0 0 0 0]\n",
            " [1 0 2 0 1 1 0 0 0 0]\n",
            " [1 1 1 1 1 1 0 0 0 0]\n",
            " [1 1 1 1 1 0 0 0 0 0]\n",
            " [1 1 1 1 1 0 0 0 0 0]\n",
            " [1 1 1 1 1 0 0 0 0 0]\n",
            " [0 2 1 1 1 0 0 0 0 0]\n",
            " [2 1 1 1 0 0 0 0 0 0]\n",
            " [1 1 1 1 0 0 0 0 0 0]\n",
            " [1 1 1 1 0 0 0 0 0 0]]\n"
          ]
        }
      ]
    },
    {
      "cell_type": "code",
      "source": [
        "# mapa de colores\n",
        "title = ('Iteración ' + str(max_iters))\n",
        "cmap = colors.ListedColormap(\n",
        "    ['tab:green', 'tab:orange', 'tab:blue'])\n",
        "plt.imshow(mapa_etiquetas, cmap=cmap)\n",
        "plt.colorbar()\n",
        "plt.title(title)\n",
        "plt.show()"
      ],
      "metadata": {
        "colab": {
          "base_uri": "https://localhost:8080/",
          "height": 452
        },
        "id": "Uy4cyVIlTETy",
        "outputId": "1b9e415f-125d-4165-a73e-9ed54395cf0f"
      },
      "execution_count": 22,
      "outputs": [
        {
          "output_type": "display_data",
          "data": {
            "text/plain": [
              "<Figure size 640x480 with 2 Axes>"
            ],
            "image/png": "[encoded data removed]"
          },
          "metadata": {}
        }
      ]
    },
    {
      "cell_type": "code",
      "source": [
        "# etapa de prueba\n",
        "\n",
        "# normalización de datos de prueba\n",
        "datos_pruebas = normalizacion(test_x)\n",
        "\n",
        "# inicialización\n",
        "etiquetas_ganadoras = []\n",
        "\n",
        "# aplicación de SOM\n",
        "for t in range(datos_pruebas.shape[0]):\n",
        " ganadora = BMUS(datos_pruebas, t, som)\n",
        " row = ganadora[0]\n",
        " col = ganadora[1]\n",
        " prediccion = mapa_etiquetas[row][col]\n",
        " # predicciones\n",
        " etiquetas_ganadoras.append(prediccion)\n",
        "\n",
        "# muestra la medida de exactitud de SOM\n",
        "print(\"Exactitud: \",accuracy_score(test_y,\n",
        "      np.array(etiquetas_ganadoras)))"
      ],
      "metadata": {
        "colab": {
          "base_uri": "https://localhost:8080/"
        },
        "id": "nKizylA6I9dp",
        "outputId": "e8513a23-6d69-4922-a76c-abaf84b6b644"
      },
      "execution_count": 23,
      "outputs": [
        {
          "output_type": "stream",
          "name": "stdout",
          "text": [
            "Exactitud:  0.9781818181818182\n"
          ]
        }
      ]
    }
  ]
}