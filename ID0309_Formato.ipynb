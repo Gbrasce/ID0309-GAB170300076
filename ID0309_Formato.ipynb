{
  "nbformat": 4,
  "nbformat_minor": 0,
  "metadata": {
    "colab": {
      "provenance": []
    },
    "kernelspec": {
      "name": "python3",
      "display_name": "Python 3"
    },
    "language_info": {
      "name": "python"
    }
  },
  "cells": [
    {
      "cell_type": "markdown",
      "source": [
        "#ID0309 - Aprendizaje Estadístico\n",
        "\n",
        "### Otoño 2023\n",
        "\n",
        "### ID0309_Formato\n",
        "\n",
        "**Enrique Naredo García**\n",
        "\n",
        "<font size = 2>\n",
        "©️ Todos los derechos reservados. All rights reserved.\n",
        "\n",
        "*Nota: El presente documento es una herramienta diseñada única y exclusivamente para los estudiantes de la asignatura arriba mencionada. Se recuerda no compartir esta información fuera de los integrantes registrados en este curso. La reproducción total o parcial de este documento requiere autorización por escrito del titular del copyright.*\n",
        "</font>"
      ],
      "metadata": {
        "id": "_4e-mH8x5HGr"
      }
    },
    {
      "cell_type": "markdown",
      "source": [
        "**Equipo**:\n",
        "  * No. y nombre de Equipo\n",
        "\n",
        "**Integrantes**:\n",
        "\n",
        "1. Matricula, Nombre Apellidos\n",
        "2. Matricula, Nombre Apellidos\n",
        "3. Matricula, Nombre Apellidos\n",
        "\n",
        "Fecha de entrega:  \n",
        "\n",
        "Hora de entrega:\n",
        "\n"
      ],
      "metadata": {
        "id": "Cgw6Hb1I5SDX"
      }
    },
    {
      "cell_type": "markdown",
      "source": [
        "## Introducción\n",
        "\n"
      ],
      "metadata": {
        "id": "c3Bj_c2f5SDY"
      }
    },
    {
      "cell_type": "markdown",
      "source": [
        "Texto con una breve explicación del trabajo realizado."
      ],
      "metadata": {
        "id": "buiDFIOj5SDZ"
      }
    },
    {
      "cell_type": "markdown",
      "source": [
        "Utilicen imágenes y notación matemática."
      ],
      "metadata": {
        "id": "U-YMOpAi5SDZ"
      }
    },
    {
      "cell_type": "markdown",
      "source": [
        "Agreguen referencias."
      ],
      "metadata": {
        "id": "fhYipePY5SDa"
      }
    },
    {
      "cell_type": "markdown",
      "source": [
        "## Sección 1\n",
        "Utilicen secciones para explicar su trabajo."
      ],
      "metadata": {
        "id": "MeRZpp3I5SDa"
      }
    },
    {
      "cell_type": "code",
      "execution_count": null,
      "metadata": {
        "id": "je8QPMPo5SDa"
      },
      "outputs": [],
      "source": [
        "# Código\n",
        "\n",
        "\n"
      ]
    },
    {
      "cell_type": "code",
      "source": [
        "# Código\n",
        "\n",
        "\n"
      ],
      "metadata": {
        "id": "BvAar0cN5SDb"
      },
      "execution_count": null,
      "outputs": []
    },
    {
      "cell_type": "markdown",
      "source": [
        "## Sección 2\n",
        "Utilicen secciones para explicar su trabajo."
      ],
      "metadata": {
        "id": "CpH1YVlo5SDb"
      }
    },
    {
      "cell_type": "code",
      "source": [
        "# Código\n",
        "\n",
        "\n"
      ],
      "metadata": {
        "id": "GBFv833K5SDb"
      },
      "execution_count": null,
      "outputs": []
    },
    {
      "cell_type": "code",
      "source": [
        "# Código\n",
        "\n",
        "\n"
      ],
      "metadata": {
        "id": "6LADlsYm5SDb"
      },
      "execution_count": null,
      "outputs": []
    },
    {
      "cell_type": "markdown",
      "source": [
        "## Sección 3\n",
        "Utilicen secciones para explicar su trabajo."
      ],
      "metadata": {
        "id": "u_fbx7q05SDc"
      }
    },
    {
      "cell_type": "code",
      "source": [
        "# Código\n",
        "\n",
        "\n",
        "\n"
      ],
      "metadata": {
        "id": "ViKjKte85SDc"
      },
      "execution_count": null,
      "outputs": []
    },
    {
      "cell_type": "code",
      "source": [
        "# Código\n",
        "\n",
        "\n",
        "\n"
      ],
      "metadata": {
        "id": "VFd9nh1v5SDc"
      },
      "execution_count": null,
      "outputs": []
    },
    {
      "cell_type": "markdown",
      "source": [
        "## Conclusiones"
      ],
      "metadata": {
        "id": "MdBTUInc5SDc"
      }
    },
    {
      "cell_type": "markdown",
      "source": [
        "Agregar sus correspondientes conclusiones, utilizando sus propias palabras."
      ],
      "metadata": {
        "id": "Am_4eS9c5SDd"
      }
    },
    {
      "cell_type": "markdown",
      "source": [
        "## Bibliografía\n",
        "\n",
        "1. Referencia 1 en APA\n",
        "2. Referencia 1 en APA\n",
        "\n"
      ],
      "metadata": {
        "id": "TH-qFFN75SDd"
      }
    },
    {
      "cell_type": "markdown",
      "source": [
        "**Equipo**:\n",
        "  * No. y nombre de Equipo\n",
        "\n",
        "**Integrantes**:\n",
        "\n",
        "1. Matricula, Nombre Apellidos\n",
        "2. Matricula, Nombre Apellidos\n",
        "3. Matricula, Nombre Apellidos\n",
        "\n",
        "Fecha de entrega:  \n",
        "\n",
        "Hora de entrega:\n",
        "\n"
      ],
      "metadata": {
        "id": "1DVaf6ZN3jtc"
      }
    },
    {
      "cell_type": "markdown",
      "source": [
        "## Introducción\n",
        "\n"
      ],
      "metadata": {
        "id": "AHsaIVsLrrqx"
      }
    },
    {
      "cell_type": "markdown",
      "source": [
        "Texto con una breve explicación del trabajo realizado."
      ],
      "metadata": {
        "id": "skAuTs924HFL"
      }
    },
    {
      "cell_type": "markdown",
      "source": [
        "Utilicen imágenes y notación matemática."
      ],
      "metadata": {
        "id": "D52rxlKH4YNj"
      }
    },
    {
      "cell_type": "markdown",
      "source": [
        "Agreguen referencias."
      ],
      "metadata": {
        "id": "JMA3D3jXsKJ3"
      }
    },
    {
      "cell_type": "markdown",
      "source": [
        "## Sección 1\n",
        "Utilicen secciones para explicar su trabajo."
      ],
      "metadata": {
        "id": "DzKt8jSo4ny0"
      }
    },
    {
      "cell_type": "code",
      "execution_count": null,
      "metadata": {
        "id": "E7hyQt-3q1H_"
      },
      "outputs": [],
      "source": [
        "# Código\n",
        "\n",
        "\n"
      ]
    },
    {
      "cell_type": "code",
      "source": [
        "# Código\n",
        "\n",
        "\n"
      ],
      "metadata": {
        "id": "sQBkB4_344D4"
      },
      "execution_count": null,
      "outputs": []
    },
    {
      "cell_type": "markdown",
      "source": [
        "## Sección 2\n",
        "Utilicen secciones para explicar su trabajo."
      ],
      "metadata": {
        "id": "zjLAoKuN4ztq"
      }
    },
    {
      "cell_type": "code",
      "source": [
        "# Código\n",
        "\n",
        "\n"
      ],
      "metadata": {
        "id": "S4rXwl2MsI32"
      },
      "execution_count": null,
      "outputs": []
    },
    {
      "cell_type": "code",
      "source": [
        "# Código\n",
        "\n",
        "\n"
      ],
      "metadata": {
        "id": "ineQhw7W46Ty"
      },
      "execution_count": null,
      "outputs": []
    },
    {
      "cell_type": "markdown",
      "source": [
        "## Sección 3\n",
        "Utilicen secciones para explicar su trabajo."
      ],
      "metadata": {
        "id": "fm73nZH841D3"
      }
    },
    {
      "cell_type": "code",
      "source": [
        "# Código\n",
        "\n",
        "\n",
        "\n"
      ],
      "metadata": {
        "id": "nuLMSk9dsIoJ"
      },
      "execution_count": null,
      "outputs": []
    },
    {
      "cell_type": "code",
      "source": [
        "# Código\n",
        "\n",
        "\n",
        "\n"
      ],
      "metadata": {
        "id": "zIwzjqYssIla"
      },
      "execution_count": null,
      "outputs": []
    },
    {
      "cell_type": "markdown",
      "source": [
        "## Conclusiones"
      ],
      "metadata": {
        "id": "wj0AHiPgr1gx"
      }
    },
    {
      "cell_type": "markdown",
      "source": [
        "Agregar sus correspondientes conclusiones, utilizando sus propias palabras."
      ],
      "metadata": {
        "id": "cLXzf0zdsKMw"
      }
    },
    {
      "cell_type": "markdown",
      "source": [
        "## Bibliografía\n",
        "\n",
        "1. Referencia 1 en APA\n",
        "2. Referencia 1 en APA\n",
        "\n"
      ],
      "metadata": {
        "id": "4L3ZgUA9r4fo"
      }
    }
  ]
}